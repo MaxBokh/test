{
 "cells": [
  {
   "cell_type": "code",
   "execution_count": 2,
   "metadata": {},
   "outputs": [
    {
     "name": "stdout",
     "output_type": "stream",
     "text": [
      "th\n"
     ]
    }
   ],
   "source": [
    "#Задание 1. Вариант с четным количеством букв\n",
    "word = 'Lighthouse'\n",
    "if(len(word)%2==0):\n",
    "    print(word[len(word)//2-1: len(word)//2+1])\n",
    "else:\n",
    "    print(word[len(word)//2-1])"
   ]
  },
  {
   "cell_type": "code",
   "execution_count": 3,
   "metadata": {
    "scrolled": true
   },
   "outputs": [
    {
     "name": "stdout",
     "output_type": "stream",
     "text": [
      "t\n"
     ]
    }
   ],
   "source": [
    "#Задание 1. Вариант с нечетным количеством букв\n",
    "word = 'Lighthouses'\n",
    "if(len(word)%2==0):\n",
    "    print(word[len(word)//2-1: len(word)//2+1])\n",
    "else:\n",
    "    print(word[len(word)//2-1])"
   ]
  },
  {
   "cell_type": "code",
   "execution_count": 1,
   "metadata": {
    "cocalc": {
     "outputs": {
      "0": {
       "name": "input",
       "opts": {
        "password": false,
        "prompt": ""
       },
       "output_type": "stream",
       "value": "22"
      },
      "1": {
       "name": "input",
       "opts": {
        "password": false,
        "prompt": ""
       },
       "output_type": "stream",
       "value": "09"
      },
      "2": {
       "name": "input",
       "opts": {
        "password": false,
        "prompt": ""
       },
       "output_type": "stream",
       "value": "1989"
      },
      "3": {
       "name": "input",
       "opts": {
        "password": false,
        "prompt": ""
       },
       "output_type": "stream",
       "value": "0"
      }
     }
    }
   },
   "outputs": [
    {
     "name": "stdout",
     "output_type": "stream",
     "text": [
      "1\n",
      "4\n",
      "6\n",
      "7\n",
      "8\n",
      "0\n",
      "Результат: 26\n"
     ]
    }
   ],
   "source": [
    "# Задание 2.\n",
    "x = int(input())\n",
    "summa = 0\n",
    "while x != 0: \n",
    "    summa += x\n",
    "    x = int(input())\n",
    "if x==0:  \n",
    "    print('Результат:', summa)"
   ]
  },
  {
   "cell_type": "code",
   "execution_count": 10,
   "metadata": {},
   "outputs": [
    {
     "name": "stdout",
     "output_type": "stream",
     "text": [
      "Внимание, кто-то может остаться без пары\n"
     ]
    }
   ],
   "source": [
    "#Задание 3.\n",
    "boys = ['Peter', 'Alex', 'John', 'Arthur', 'Richard', 'Michael', 'Tom']\n",
    "girls = ['Kate', 'Liza', 'Kira', 'Emma', 'Trisha', 'Ann']\n",
    "\n",
    "if len(boys) != len(girls):\n",
    "    print('Внимание, кто-то может остаться без пары')\n",
    "else:\n",
    "    print('Идеальные пары:')\n",
    "    couples = zip(sorted(boys), sorted(girls))\n",
    "for good in couples:\n",
    "        boy = good[0]\n",
    "        girl = good[1]\n",
    "        print(boy, 'и', girl)\n",
    "       \n",
    "        \n",
    "    \n",
    "   "
   ]
  },
  {
   "cell_type": "code",
   "execution_count": 60,
   "metadata": {},
   "outputs": [
    {
     "name": "stdout",
     "output_type": "stream",
     "text": [
      "Средняя температура в странах:\n",
      "Thailand - 23.9 C\n",
      "Germany - 13.8 C\n",
      "Russia -  3.7 C\n",
      "Poland -  12.0 C\n"
     ]
    }
   ],
   "source": [
    "#Задание 4. Решение глупое.\n",
    "countries_temperature = [\n",
    "    ['Thailand', [75.2, 77, 78.8, 73.4, 68, 75.2, 77]],\n",
    "    ['Germany', [57.2, 55.4, 59, 59, 53.6]],\n",
    "    ['Russia', [35.6, 37.4, 39.2, 41, 42.8, 39.2, 35.6]],\n",
    "    ['Poland', [50, 50, 53.6, 57.2, 55.4, 55.4]]\n",
    "]\n",
    "\n",
    "avgThai = (((sum(countries_temperature[0][1])/len(countries_temperature[0][1]))-32)*5/9)\n",
    "avgGer = (((sum(countries_temperature[1][1])/len(countries_temperature[1][1]))-32)*5/9)\n",
    "avgRus = (((sum(countries_temperature[2][1])/len(countries_temperature[2][1]))-32)*5/9)\n",
    "avgPl = (((sum(countries_temperature[3][1])/len(countries_temperature[3][1]))-32)*5/9)\n",
    "\n",
    "print('Средняя температура в странах:')\n",
    "print('Thailand -',(round(avgThai, 1)), 'C')\n",
    "print('Germany -',(round(avgGer, 1)), 'C')\n",
    "print('Russia - ', (round(avgRus, 1)), 'C')\n",
    "print('Poland - ',(round(avgPl, 1)), 'C')\n"
   ]
  },
  {
   "cell_type": "code",
   "execution_count": 81,
   "metadata": {},
   "outputs": [
    {
     "name": "stdout",
     "output_type": "stream",
     "text": [
      "Средняя температура в странах:\n",
      "Thailand - 23.9 C\n",
      "Germany - 13.8 C\n",
      "Russia - 3.7 C\n",
      "Poland - 12.0 C\n"
     ]
    }
   ],
   "source": [
    "#Задание 4. Решение поумнее.\n",
    "\n",
    "countries_temperature = [\n",
    "    ['Thailand', [75.2, 77, 78.8, 73.4, 68, 75.2, 77]],\n",
    "    ['Germany', [57.2, 55.4, 59, 59, 53.6]],\n",
    "    ['Russia', [35.6, 37.4, 39.2, 41, 42.8, 39.2, 35.6]],\n",
    "    ['Poland', [50, 50, 53.6, 57.2, 55.4, 55.4]]\n",
    "]\n",
    "\n",
    "print('Средняя температура в странах:')\n",
    "length = 0\n",
    "sum_temp = 0\n",
    "avg_temp = 0\n",
    "for temp in countries_temperature:\n",
    "    length = len(temp[1])\n",
    "    sum_temp = sum(temp[1])\n",
    "    avg_temp = (sum_temp/length- 32)*5/9\n",
    "    print(temp[0],'-', round(avg_temp , 1), 'C')\n",
    "\n"
   ]
  }
 ],
 "metadata": {
  "kernelspec": {
   "display_name": "Python 3",
   "language": "python",
   "name": "python3"
  },
  "language_info": {
   "codemirror_mode": {
    "name": "ipython",
    "version": 3
   },
   "file_extension": ".py",
   "mimetype": "text/x-python",
   "name": "python",
   "nbconvert_exporter": "python",
   "pygments_lexer": "ipython3",
   "version": "3.8.3"
  }
 },
 "nbformat": 4,
 "nbformat_minor": 4
}
