{
 "cells": [
  {
   "cell_type": "code",
   "execution_count": 29,
   "metadata": {},
   "outputs": [
    {
     "name": "stdout",
     "output_type": "stream",
     "text": [
      "Результат: {98, 35, 15, 213, 54, 119}\n"
     ]
    }
   ],
   "source": [
    "#Задание №1\n",
    "\n",
    "ids = {'user1': [213, 213, 213, 15, 213], \n",
    "       'user2': [54, 54, 119, 119, 119], \n",
    "       'user3': [213, 98, 98, 35]}\n",
    "\n",
    "new_list = []\n",
    "for element in ids.values():\n",
    "    new_list.extend(element)\n",
    "print('Результат:', set(new_list))\n"
   ]
  },
  {
   "cell_type": "code",
   "execution_count": 66,
   "metadata": {},
   "outputs": [
    {
     "name": "stdout",
     "output_type": "stream",
     "text": [
      "Запросы из двух слов: 42.9%\n",
      "Запросы из трех слов: 57.1%\n"
     ]
    }
   ],
   "source": [
    "#Задание №2\n",
    "\n",
    "queries = [\n",
    "    'смотреть сериалы онлайн',\n",
    "    'новости спорта',\n",
    "    'афиша кино',\n",
    "    'курс доллара',\n",
    "    'сериалы этим летом',\n",
    "    'курс по питону',\n",
    "    'сериалы про спорт',\n",
    "]\n",
    "\n",
    "new_dict = {}\n",
    "for query in queries:\n",
    "    element = len(query.split( ))\n",
    "    if element not in new_dict:\n",
    "        new_dict[element] = 1\n",
    "    else:\n",
    "        new_dict[element] += 1\n",
    "print('Запросы из двух слов:', '{:.1%}'.format(new_dict[2]/len(queries)))\n",
    "print('Запросы из трех слов:', '{:.1%}'.format(new_dict[3]/len(queries)))\n"
   ]
  },
  {
   "cell_type": "code",
   "execution_count": 84,
   "metadata": {},
   "outputs": [
    {
     "name": "stdout",
     "output_type": "stream",
     "text": [
      "('vk', {'revenue': 103, 'cost': 98, 'ROI': 5.1})\n",
      "('yandex', {'revenue': 179, 'cost': 153, 'ROI': 16.99})\n",
      "('facebook', {'revenue': 103, 'cost': 110, 'ROI': -6.36})\n",
      "('adwords', {'revenue': 35, 'cost': 34, 'ROI': 2.94})\n",
      "('twitter', {'revenue': 11, 'cost': 24, 'ROI': -54.17})\n"
     ]
    }
   ],
   "source": [
    "#Задание №3\n",
    "\n",
    "results = {\n",
    "    'vk': {'revenue': 103, 'cost': 98},\n",
    "    'yandex': {'revenue': 179, 'cost': 153},\n",
    "    'facebook': {'revenue': 103, 'cost': 110},\n",
    "    'adwords': {'revenue': 35, 'cost': 34},\n",
    "    'twitter': {'revenue': 11, 'cost': 24},\n",
    "}\n",
    "\n",
    "for res in results.items():\n",
    "    result_1 = res[1]\n",
    "    result_1['ROI'] = round(((result_1['revenue']/result_1['cost']-1)*100),2)\n",
    "    print(res)"
   ]
  },
  {
   "cell_type": "code",
   "execution_count": 92,
   "metadata": {},
   "outputs": [
    {
     "name": "stdout",
     "output_type": "stream",
     "text": [
      "Максимальные продажи на рекламном канале: vk\n"
     ]
    }
   ],
   "source": [
    "#Задание №4\n",
    "\n",
    "stats = {'facebook': 55, 'yandex': 115, 'vk': 120, 'google': 99, 'email': 42, 'ok': 98}\n",
    "\n",
    "for res in stats.items():\n",
    "    most = max(stats, key=stats.get)\n",
    "print('Максимальные продажи на рекламном канале:', most)"
   ]
  }
 ],
 "metadata": {
  "kernelspec": {
   "display_name": "Python 3",
   "language": "python",
   "name": "python3"
  },
  "language_info": {
   "codemirror_mode": {
    "name": "ipython",
    "version": 3
   },
   "file_extension": ".py",
   "mimetype": "text/x-python",
   "name": "python",
   "nbconvert_exporter": "python",
   "pygments_lexer": "ipython3",
   "version": "3.8.3"
  }
 },
 "nbformat": 4,
 "nbformat_minor": 4
}
