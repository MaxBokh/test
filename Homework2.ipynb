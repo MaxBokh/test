{
 "cells": [
  {
   "cell_type": "code",
   "execution_count": 37,
   "metadata": {},
   "outputs": [
    {
     "name": "stdout",
     "output_type": "stream",
     "text": [
      "Нет, на самом деле все наоборот\n"
     ]
    }
   ],
   "source": [
    "phrase_1 = 'Эта фраза номер 1, она должна быть длиннее фразы 2'\n",
    "phrase_2 = 'Эта фраза номер 2, она короче фразы 1, но это не точно'\n",
    "if len(phrase_1) > len(phrase_2):\n",
    "    print('Действительное, это так')\n",
    "elif len(phrase_1) == len(phrase_2):\n",
    "    print ('Они вообще равны')\n",
    "else:\n",
    "    print ('Нет, на самом деле все наоборот')\n",
    "    \n",
    "    \n"
   ]
  },
  {
   "cell_type": "code",
   "execution_count": 38,
   "metadata": {},
   "outputs": [
    {
     "name": "stdout",
     "output_type": "stream",
     "text": [
      "Обычный год (невисокосный)\n"
     ]
    }
   ],
   "source": [
    "current_year = 2021\n",
    "if (current_year%4) == 0:\n",
    "    print ('високосный год')\n",
    "else:\n",
    "    print('Обычный год (невисокосный)')\n"
   ]
  },
  {
   "cell_type": "code",
   "execution_count": 96,
   "metadata": {},
   "outputs": [
    {
     "name": "stdout",
     "output_type": "stream",
     "text": [
      "Ваш знак зодиака:\n",
      "Скорпион\n"
     ]
    }
   ],
   "source": [
    "print('Ваш знак зодиака:')\n",
    "day = 17\n",
    "mounth = ('Ноябрь')\n",
    "if (21 <= day <= 31 and mounth == 'Март') or (1 <= day <= 20 and mounth == 'Апрель'):\n",
    "    print('Овен')\n",
    "elif (21 <= day <= 30 and mounth == 'Апрель') or (1 <= day <= 21 and mounth == 'Май'):\n",
    "    print('Телец')\n",
    "elif (22 <= day <= 31 and mounth == 'Май') or (1 <= day <= 21 and mounth == 'Июнь'):\n",
    "    print('Близнецы')\n",
    "elif (22 <= day <= 30 and mounth == 'Июнь') or (1 <= day <= 22 and mounth == 'Июль'):\n",
    "    print('Рак')\n",
    "elif (23 <= day <= 31 and mounth == 'Июль') or (1 <= day <= 23 and mounth == 'Август'):\n",
    "    print('Лев')\n",
    "elif (24 <= day <= 31 and mounth == 'Август') or (1 <= day <= 23 and mounth == 'Сентябрь'):\n",
    "    print('Дева')\n",
    "elif (24 <= day <= 30 and mounth == 'Сентябрь') or (1 <= day <= 23 and mounth == 'Октябрь'):\n",
    "    print('Весы')\n",
    "elif (24 <= day <= 31 and mounth == 'Октябрь') or (1 <= day <= 22 and mounth == 'Ноябрь'):\n",
    "    print('Скорпион')\n",
    "elif (23 <= day <= 30 and mounth == 'Ноябрь') or (1 <= day <= 21 and mounth == 'Декабрь'):\n",
    "    print('Стрелец')\n",
    "elif (22 <= day <= 31 and mounth == 'Декабрь') or (1 <= day <= 20 and mounth == 'Январь'):\n",
    "    print('Козерог')\n",
    "elif (21 <= day <= 31 and mounth == 'Январь') or (1 <= day <= 18 and mounth == 'Февраль'):\n",
    "    print('Водолей')\n",
    "elif (19 <= day <= 29 and mounth == 'Февраль') or (1 <= day <= 20 and mounth == 'Март'):\n",
    "    print('Рыбы')\n",
    "else:\n",
    "    print('Проверьте дату')"
   ]
  },
  {
   "cell_type": "code",
   "execution_count": 73,
   "metadata": {},
   "outputs": [
    {
     "name": "stdout",
     "output_type": "stream",
     "text": [
      "Коробка №2\n"
     ]
    }
   ],
   "source": [
    "width = 25\n",
    "length = 150\n",
    "height = 5\n",
    "if width < 15 and length < 15 and height < 15:\n",
    "    print('Коробка №1')\n",
    "elif (15 < width < 50 or 15 < length < 50 or 15 < height < 50) and length < 200:\n",
    "    print('Коробка №2')\n",
    "elif length > 200:\n",
    "    print('Упаковка для лыж')\n",
    "else:\n",
    "    print('стандартная коробка №3')"
   ]
  },
  {
   "cell_type": "code",
   "execution_count": 83,
   "metadata": {},
   "outputs": [
    {
     "ename": "NameError",
     "evalue": "name 'datetime' is not defined",
     "output_type": "error",
     "traceback": [
      "\u001b[1;31m---------------------------------------------------------------------------\u001b[0m",
      "\u001b[1;31mNameError\u001b[0m                                 Traceback (most recent call last)",
      "\u001b[1;32m<ipython-input-83-4db004c3949a>\u001b[0m in \u001b[0;36m<module>\u001b[1;34m\u001b[0m\n\u001b[1;32m----> 1\u001b[1;33m \u001b[0mprint\u001b[0m\u001b[1;33m(\u001b[0m\u001b[0mdatetime\u001b[0m\u001b[1;33m(\u001b[0m\u001b[1;34m'20 сентября'\u001b[0m\u001b[1;33m)\u001b[0m\u001b[1;33m)\u001b[0m\u001b[1;33m\u001b[0m\u001b[1;33m\u001b[0m\u001b[0m\n\u001b[0m",
      "\u001b[1;31mNameError\u001b[0m: name 'datetime' is not defined"
     ]
    }
   ],
   "source": [
    "print(datetime('20 сентября'))"
   ]
  }
 ],
 "metadata": {
  "kernelspec": {
   "display_name": "Python 3",
   "language": "python",
   "name": "python3"
  },
  "language_info": {
   "codemirror_mode": {
    "name": "ipython",
    "version": 3
   },
   "file_extension": ".py",
   "mimetype": "text/x-python",
   "name": "python",
   "nbconvert_exporter": "python",
   "pygments_lexer": "ipython3",
   "version": "3.8.3"
  }
 },
 "nbformat": 4,
 "nbformat_minor": 4
}
