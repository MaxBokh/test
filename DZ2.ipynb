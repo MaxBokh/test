{
 "cells": [
  {
   "cell_type": "code",
   "execution_count": 17,
   "metadata": {},
   "outputs": [
    {
     "name": "stdout",
     "output_type": "stream",
     "text": [
      "arseniy\n",
      "7\n",
      "e\n"
     ]
    }
   ],
   "source": [
    "#Дана переменная, в которой хранится слово из латинских букв. Напишите код, который выводит на экран:\n",
    "# среднюю букву, если число букв в слове нечетное;\n",
    "# две средних буквы, если число букв четное.\n",
    "\n",
    "word = input()\n",
    "print(len(word))\n",
    "if len(word)%2 == 0:\n",
    "    print(word[len(word)//2-1: len(word)//2+1])\n",
    "else:\n",
    "    print(word[len(word)//2])"
   ]
  },
  {
   "cell_type": "code",
   "execution_count": 22,
   "metadata": {},
   "outputs": [
    {
     "name": "stdout",
     "output_type": "stream",
     "text": [
      "22\n",
      "09\n",
      "1989\n",
      "0\n",
      "2020\n"
     ]
    }
   ],
   "source": [
    "#Напишите программу, которая последовательно запрашивает у пользователя числа (по одному за\n",
    "#раз) и после первого нуля выводит сумму всех ранее введенных чисел.\n",
    "\n",
    "a = int(input())\n",
    "summa = 0\n",
    "while a != 0:\n",
    "    summa += a\n",
    "    a = int(input());\n",
    "else:\n",
    "    print(summa)"
   ]
  },
  {
   "cell_type": "code",
   "execution_count": 28,
   "metadata": {},
   "outputs": [
    {
     "name": "stdout",
     "output_type": "stream",
     "text": [
      "Идеальные пары:\n",
      "\n",
      "Alex и Ann\n",
      "Arthur и Emma\n",
      "John и Kate\n",
      "Michael и Kira\n",
      "Peter и Liza\n",
      "Richard и Trisha\n"
     ]
    }
   ],
   "source": [
    "#Мы делаем MVP dating-сервиса, и у нас есть список парней и девушек. \n",
    "#Выдвигаем гипотезу: лучшие рекомендации мы получим, если просто отсортируем имена по \n",
    "#алфавиту и познакомим людей с одинаковыми индексами после сортировки! Но мы не будем никого\n",
    "#знакомить, если кто-то может остаться без пары:\n",
    "\n",
    "\n",
    "boys = ['Peter', 'Alex', 'John', 'Arthur', 'Richard', 'Michael']\n",
    "girls = ['Kate', 'Liza', 'Kira', 'Emma', 'Trisha', 'Ann']\n",
    "couples = zip(sorted(boys), sorted(girls))\n",
    "if len(boys) != len(girls):\n",
    "    print('Внимание, кто-то может остаться без пары')\n",
    "else:\n",
    "    print('Идеальные пары:')\n",
    "    print()\n",
    "    for good in couples:\n",
    "        boy = good[0]\n",
    "        girl = good[1]\n",
    "        print(boy, ('и'), girl)"
   ]
  },
  {
   "cell_type": "code",
   "execution_count": 40,
   "metadata": {},
   "outputs": [
    {
     "name": "stdout",
     "output_type": "stream",
     "text": [
      "Средняя температура в странах\n",
      "Thailand - 23.9 C\n",
      "Germany - 13.8 C\n",
      "Russia - 3.7 C\n",
      "Poland - 12.0 C\n"
     ]
    }
   ],
   "source": [
    "#У нас есть список, содержащий информацию о среднедневной температуре в Фаренгейтах за\n",
    "#произвольный период по странам (структура данных в примере). Необходимо написать код,\n",
    "#который рассчитает среднюю температуру за период в Цельсиях(!) для каждой страны.\n",
    "\n",
    "countries_temperature = [\n",
    "['Thailand', [75.2, 77, 78.8, 73.4, 68, 75.2, 77]],\n",
    "['Germany', [57.2, 55.4, 59, 59, 53.6]],\n",
    "['Russia', [35.6, 37.4, 39.2, 41, 42.8, 39.2, 35.6]],\n",
    "['Poland', [50, 50, 53.6, 57.2, 55.4, 55.4]]\n",
    "]\n",
    "print('Средняя температура в странах')\n",
    "for temp in countries_temperature:\n",
    "    avg_temp = (sum(temp[1])/len(temp[1])-32)*5/9\n",
    "    print(temp[0], ('-'), round(avg_temp, 1), 'C')\n",
    "    \n"
   ]
  },
  {
   "cell_type": "code",
   "execution_count": 42,
   "metadata": {},
   "outputs": [
    {
     "ename": "SyntaxError",
     "evalue": "invalid character in identifier (<ipython-input-42-5173d2796f60>, line 6)",
     "output_type": "error",
     "traceback": [
      "\u001b[1;36m  File \u001b[1;32m\"<ipython-input-42-5173d2796f60>\"\u001b[1;36m, line \u001b[1;32m6\u001b[0m\n\u001b[1;33m    ‘2018-01-01,user1,3’,\u001b[0m\n\u001b[1;37m        ^\u001b[0m\n\u001b[1;31mSyntaxError\u001b[0m\u001b[1;31m:\u001b[0m invalid character in identifier\n"
     ]
    }
   ],
   "source": [
    "#Дан поток логов по количеству просмотренных страниц для каждого пользователя. Вам\n",
    "#необходимо написать алгоритм, который считает среднее значение просмотров на пользователя. \n",
    "#Т.е. надо посчитать отношение суммы всех просмотров к количеству уникальных пользователей.\n",
    "\n",
    "stream = [\n",
    "‘2018-01-01,user1,3’,\n",
    "‘2018-01-07,user1,4’,\n",
    "‘2018-03-29,user1,1’,\n",
    "‘2018-04-04,user1,13’,\n",
    "‘2018-01-05,user2,7’,\n",
    "‘2018-06-14,user3,4’,\n",
    "‘2018-07-02,user3,10’,\n",
    "‘2018-03-21,user4,19’,\n",
    "‘2018-03-22,user4,4’,\n",
    "‘2018-04-22,user4,8’,\n",
    "‘2018-05-03,user4,9’,\n",
    "‘2018-05-11,user4,11’,\n",
    "]\n",
    "\n",
    "for group in stream:\n",
    "    print(group[1])\n",
    "    "
   ]
  },
  {
   "cell_type": "code",
   "execution_count": 88,
   "metadata": {},
   "outputs": [
    {
     "name": "stdout",
     "output_type": "stream",
     "text": [
      "[4, 8, 0, 3, 2, 5, 1, 6, 35, 12]\n"
     ]
    }
   ],
   "source": [
    "#Необходимо у пользователя запрашивать набор чисел разделенных пробелом. В результате должны\n",
    "#выводиться числа, которые повторяются в вводе более одного раза.\n",
    "\n",
    "first_list = [4, 8, 0, 3, 4, 2, 0, 3, 5, 1, 6, 8, 4, 6, 35, 12] #Список ввода\n",
    "new_list = [] #Обработанный список ввода, показывает все уникальные вхождения в списк ввода\n",
    "clear_list = [] #Результат, очищенный от списка уникальных вхождений. Однократные вхождения сюда не попадут.\n",
    "for new in first_list:\n",
    "    if new not in new_list: \n",
    "        new_list.append(new)\n",
    "    else: \n",
    "        pass\n",
    "print(new_list)\n",
    "if new_list in first_list:\n",
    "    first_list.remove(new_list)\n",
    "    for clear in first_list:\n",
    "        if clear not in clear_list:\n",
    "            clear_list.append(clear)\n",
    "        else:\n",
    "            pass\n",
    "print(clear_list)\n",
    "\n",
    "    \n",
    "\n"
   ]
  },
  {
   "cell_type": "code",
   "execution_count": 89,
   "metadata": {},
   "outputs": [
    {
     "name": "stdout",
     "output_type": "stream",
     "text": [
      "[4, 8, 0, 3, 2, 5, 1, 6, 35, 12]\n"
     ]
    }
   ],
   "source": [
    "first_list = [4, 8, 0, 3, 4, 2, 0, 3, 5, 1, 6, 8, 4, 6, 35, 12] #Список ввода\n",
    "new_list = [] #Обработанный список ввода, показывает все уникальные вхождения в списк ввода\n",
    "clear_list = [] #Результат, очищенный от списка уникальных вхождений. Однократные вхождения сюда не попадут.\n",
    "for new in first_list:\n",
    "    if new not in new_list: \n",
    "        new_list.append(new)\n",
    "    else: \n",
    "        pass\n",
    "print(new_list)"
   ]
  },
  {
   "cell_type": "code",
   "execution_count": null,
   "metadata": {},
   "outputs": [],
   "source": []
  },
  {
   "cell_type": "code",
   "execution_count": 87,
   "metadata": {},
   "outputs": [
    {
     "name": "stdout",
     "output_type": "stream",
     "text": [
      "[4, 8, 0, 3, 4, 2, 0, 3, 5, 1, 6, 8, 4, 6, 35, 12]\n"
     ]
    }
   ],
   "source": [
    "first_list = [4, 8, 0, 3, 4, 2, 0, 3, 5, 1, 6, 8, 4, 6, 35, 12]\n",
    "new_list = [4, 8, 0, 3, 2, 5, 1, 6, 35, 12]\n",
    "if new_list in first_list:\n",
    "    first_list.remove(new_list)\n",
    "print(first_list)\n"
   ]
  },
  {
   "cell_type": "code",
   "execution_count": null,
   "metadata": {},
   "outputs": [],
   "source": []
  },
  {
   "cell_type": "code",
   "execution_count": null,
   "metadata": {},
   "outputs": [],
   "source": []
  },
  {
   "cell_type": "code",
   "execution_count": null,
   "metadata": {},
   "outputs": [],
   "source": []
  },
  {
   "cell_type": "code",
   "execution_count": null,
   "metadata": {},
   "outputs": [],
   "source": []
  },
  {
   "cell_type": "code",
   "execution_count": null,
   "metadata": {},
   "outputs": [],
   "source": []
  },
  {
   "cell_type": "code",
   "execution_count": null,
   "metadata": {},
   "outputs": [],
   "source": []
  },
  {
   "cell_type": "code",
   "execution_count": null,
   "metadata": {},
   "outputs": [],
   "source": []
  },
  {
   "cell_type": "code",
   "execution_count": null,
   "metadata": {},
   "outputs": [],
   "source": []
  },
  {
   "cell_type": "code",
   "execution_count": null,
   "metadata": {},
   "outputs": [],
   "source": []
  },
  {
   "cell_type": "code",
   "execution_count": null,
   "metadata": {},
   "outputs": [],
   "source": []
  },
  {
   "cell_type": "code",
   "execution_count": null,
   "metadata": {},
   "outputs": [],
   "source": []
  },
  {
   "cell_type": "code",
   "execution_count": null,
   "metadata": {},
   "outputs": [],
   "source": []
  },
  {
   "cell_type": "code",
   "execution_count": null,
   "metadata": {},
   "outputs": [],
   "source": []
  },
  {
   "cell_type": "code",
   "execution_count": null,
   "metadata": {},
   "outputs": [],
   "source": []
  },
  {
   "cell_type": "code",
   "execution_count": null,
   "metadata": {},
   "outputs": [],
   "source": []
  }
 ],
 "metadata": {
  "kernelspec": {
   "display_name": "Python 3",
   "language": "python",
   "name": "python3"
  },
  "language_info": {
   "codemirror_mode": {
    "name": "ipython",
    "version": 3
   },
   "file_extension": ".py",
   "mimetype": "text/x-python",
   "name": "python",
   "nbconvert_exporter": "python",
   "pygments_lexer": "ipython3",
   "version": "3.8.5"
  }
 },
 "nbformat": 4,
 "nbformat_minor": 4
}
